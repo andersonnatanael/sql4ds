{
 "cells": [
  {
   "cell_type": "code",
   "execution_count": 2,
   "id": "77a06cca-5672-4b93-a845-71c5c00ea6e5",
   "metadata": {},
   "outputs": [
    {
     "name": "stdout",
     "output_type": "stream",
     "text": [
      "location                   object\n",
      "city                       object\n",
      "country                    object\n",
      "pollutant                  object\n",
      "value                     float64\n",
      "timestamp                  object\n",
      "unit                       object\n",
      "source_name                object\n",
      "latitude                  float64\n",
      "longitude                 float64\n",
      "averaged_over_in_hours    float64\n",
      "dtype: object\n"
     ]
    }
   ],
   "source": [
    "import pandas as pd\n",
    "df = pd.read_csv(\"dataset.csv\")\n",
    "print(df.dtypes)"
   ]
  },
  {
   "cell_type": "code",
   "execution_count": null,
   "id": "86695691-6b25-41bf-b0af-2a446e0797b2",
   "metadata": {},
   "outputs": [],
   "source": []
  }
 ],
 "metadata": {
  "kernelspec": {
   "display_name": "Python 3 (ipykernel)",
   "language": "python",
   "name": "python3"
  },
  "language_info": {
   "codemirror_mode": {
    "name": "ipython",
    "version": 3
   },
   "file_extension": ".py",
   "mimetype": "text/x-python",
   "name": "python",
   "nbconvert_exporter": "python",
   "pygments_lexer": "ipython3",
   "version": "3.11.5"
  }
 },
 "nbformat": 4,
 "nbformat_minor": 5
}
